{
 "cells": [
  {
   "cell_type": "markdown",
   "id": "dbecaae5-7607-4c3a-ba1e-8de4be349da4",
   "metadata": {},
   "source": [
    "This project is to utilize Python for data manipulation, data preparation, visualization for EDA Analysis, applying clustering techniques to group customers based on their profiles, enabling the tailoring of marketing strategies and services. It provides an efficient method for organizing and managing the company’s customer relationships, ultimately boosting customer loyalty and conversions.\n",
    "The objective of the project is to enhance the understanding of clustering algorithms and their practical applications in real-world scenarios.\n",
    "\n",
    "Three main parts are included;\n",
    "<hr>\n",
    "<blockquote>\n",
    "    <ul>\n",
    "    <li> <b>Part A: Data Cleaning and Manipulation </li>\n",
    "    <li> <b>Part B: Exploratory Data Analysis (EDA) </li>\n",
    "    <li> <b>Part C: Clustering Analysis (K-means clustering algorithm) </li>"
   ]
  },
  {
   "cell_type": "markdown",
   "id": "3464b137-83be-403b-8471-c3a65f54c563",
   "metadata": {},
   "source": [
    "# Part A: Data Cleaning and Manipulation"
   ]
  },
  {
   "cell_type": "markdown",
   "id": "74a3d1c4-90ac-433c-aee5-4ed613c8d21b",
   "metadata": {},
   "source": [
    "Part A highlights the importance of systematic data preparation because this is the foundation for reliable and accurate analysis. \n",
    "\n",
    "### As key learning outcomes through this project, \n",
    "<ul>\n",
    "    <li>Understanding the structure and data type of raw data through initial data analysis,</li> \n",
    "    <li>Implementing appropriate imputation techniques to handle missing values based on the data distribution,</li> \n",
    "    <li>Identifying and addressing outliers using both statistical (IQR) and algorithmic (Isolation Forest) approach and implement appropriate treatment to outliers.</li> \n",
    "    <li>Leveraging feature engineering to create meaningful variables that will add value to the original dataset.</li> \n",
    "    <li>Importance of data standardization in making the dataset more useful in clustering and machine learning tasks that will be carried out in Part C.</li> \n",
    "<ul>"
   ]
  },
  {
   "cell_type": "markdown",
   "id": "18c4606f-3d9b-4c60-9550-b01d13710ce8",
   "metadata": {},
   "source": [
    "**Data Preprocessing**\n",
    "\n",
    "**Step 1: Setup and Initialization**"
   ]
  },
  {
   "cell_type": "code",
   "execution_count": 60,
   "id": "f585cc19-fa65-4586-a347-72475ea4b16b",
   "metadata": {},
   "outputs": [],
   "source": [
    "# Ignore warnings\n",
    "import warnings\n",
    "warnings.filterwarnings('ignore')\n",
    "\n",
    "#import the libraries\n",
    "import pandas as pd # data processing, data manipulation\n",
    "import numpy as np # linear algebra\n",
    "from datetime import datetime"
   ]
  },
  {
   "cell_type": "markdown",
   "id": "356f2c16-7313-4f84-9fa6-fb56aa361990",
   "metadata": {},
   "source": [
    "**Step 2: Read the dataset**"
   ]
  },
  {
   "cell_type": "code",
   "execution_count": 41,
   "id": "98bfa85f-d5be-4bfe-9879-4fd4acc984e4",
   "metadata": {},
   "outputs": [],
   "source": [
    "file_path = '/Users/zinpwint/Desktop/Portfolio Projects/Python/Jupyter_Clustering Analysis on Customer Profiles_Kmeans Clustering/AIB503_ECA01_Z2471556_ZinPwintPhyu_04Nov2024/Raw data and python codes/Clustering_data.csv'"
   ]
  },
  {
   "cell_type": "markdown",
   "id": "c03888ad-1558-4c68-9c87-b6dba78b87c1",
   "metadata": {},
   "source": [
    "Note: Read the dataset specifying the delimiter as '\\t' to handle tab-separated values"
   ]
  },
  {
   "cell_type": "code",
   "execution_count": 19,
   "id": "45192e19-2947-4b5c-8f3b-56974a64b6a2",
   "metadata": {},
   "outputs": [],
   "source": [
    "data = pd.read_csv(file_path, delimiter='\\t', encoding='utf-8')"
   ]
  },
  {
   "cell_type": "markdown",
   "id": "6facd701-3b5a-46e5-b449-61aceb72a10e",
   "metadata": {},
   "source": [
    "**Step 3: Initial Data Analysis**"
   ]
  },
  {
   "cell_type": "code",
   "execution_count": 42,
   "id": "badd6636-2340-4062-8140-f16550374a0f",
   "metadata": {
    "scrolled": true
   },
   "outputs": [
    {
     "name": "stdout",
     "output_type": "stream",
     "text": [
      "     ID  Year_Birth   Education Marital_Status   Income  Kidhome  Teenhome  \\\n",
      "0  5524        1957  Graduation         Single  58138.0        0         0   \n",
      "1  2174        1954  Graduation         Single  46344.0        1         1   \n",
      "2  4141        1965  Graduation       Together  71613.0        0         0   \n",
      "3  6182        1984  Graduation       Together  26646.0        1         0   \n",
      "4  5324        1981         PhD        Married  58293.0        1         0   \n",
      "\n",
      "  Dt_Customer  Recency  MntWines  ...  NumWebVisitsMonth  AcceptedCmp3  \\\n",
      "0  2012-09-04       58       635  ...                  7             0   \n",
      "1  2014-03-08       38        11  ...                  5             0   \n",
      "2  2013-08-21       26       426  ...                  4             0   \n",
      "3  2014-02-10       26        11  ...                  6             0   \n",
      "4  2014-01-19       94       173  ...                  5             0   \n",
      "\n",
      "   AcceptedCmp4  AcceptedCmp5  AcceptedCmp1  AcceptedCmp2  Complain  \\\n",
      "0             0             0             0             0         0   \n",
      "1             0             0             0             0         0   \n",
      "2             0             0             0             0         0   \n",
      "3             0             0             0             0         0   \n",
      "4             0             0             0             0         0   \n",
      "\n",
      "   Z_CostContact  Z_Revenue  Response  \n",
      "0              3         11         1  \n",
      "1              3         11         0  \n",
      "2              3         11         0  \n",
      "3              3         11         0  \n",
      "4              3         11         0  \n",
      "\n",
      "[5 rows x 29 columns]\n"
     ]
    }
   ],
   "source": [
    "print (data.head(5))"
   ]
  },
  {
   "cell_type": "markdown",
   "id": "f625135e-1a02-4b83-9699-0f7c2f61a1f1",
   "metadata": {},
   "source": [
    "To have a preliminary understanding about the dataset, I explored the data types of columns and data structures in the dataset. The csv dataset originally contains 2,240 entries and 29 columns with a mix of (25) integer, (1) float, and (3) objects data types. \n",
    "The dataset includes the data about the customers, their demographics, spending on different products, purchase behavior, interactions with company’s marketing campaigns. The breakdown of the data attributes can be seen as below. \n",
    "\n",
    "**Demographic data**: ID, Year_Birth, Education, Marital_Status, Income, Kidhome, Teenhome, Dt_Customer, Recency. \n",
    "\n",
    "**Spending on Different Product Categories (Over Last 2 Years)**: MntWines, MntFruits, MntMeatProducts, MntFishProducts, MntSweetProducts, MntGoldProds.\n",
    "\n",
    "**Purchase Behavior**: NumDealsPurchases, NumWebPurchases, NumCatalogPurchases, NumStorePurchases, NumWebVisitsMonth\n",
    "\n",
    "**Campaign Responses and Complaints**: AcceptedCmp1 to AcceptedCmp5, Complain, Response."
   ]
  },
  {
   "cell_type": "code",
   "execution_count": 43,
   "id": "ceabef82-f472-4576-937d-e772ea39514d",
   "metadata": {},
   "outputs": [
    {
     "name": "stdout",
     "output_type": "stream",
     "text": [
      "<class 'pandas.core.frame.DataFrame'>\n",
      "RangeIndex: 2240 entries, 0 to 2239\n",
      "Data columns (total 29 columns):\n",
      " #   Column               Non-Null Count  Dtype         \n",
      "---  ------               --------------  -----         \n",
      " 0   ID                   2240 non-null   int64         \n",
      " 1   Year_Birth           2240 non-null   int64         \n",
      " 2   Education            2240 non-null   object        \n",
      " 3   Marital_Status       2240 non-null   object        \n",
      " 4   Income               2240 non-null   float64       \n",
      " 5   Kidhome              2240 non-null   int64         \n",
      " 6   Teenhome             2240 non-null   int64         \n",
      " 7   Dt_Customer          2240 non-null   datetime64[ns]\n",
      " 8   Recency              2240 non-null   int64         \n",
      " 9   MntWines             2240 non-null   int64         \n",
      " 10  MntFruits            2240 non-null   int64         \n",
      " 11  MntMeatProducts      2240 non-null   int64         \n",
      " 12  MntFishProducts      2240 non-null   int64         \n",
      " 13  MntSweetProducts     2240 non-null   int64         \n",
      " 14  MntGoldProds         2240 non-null   int64         \n",
      " 15  NumDealsPurchases    2240 non-null   int64         \n",
      " 16  NumWebPurchases      2240 non-null   int64         \n",
      " 17  NumCatalogPurchases  2240 non-null   int64         \n",
      " 18  NumStorePurchases    2240 non-null   int64         \n",
      " 19  NumWebVisitsMonth    2240 non-null   int64         \n",
      " 20  AcceptedCmp3         2240 non-null   int64         \n",
      " 21  AcceptedCmp4         2240 non-null   int64         \n",
      " 22  AcceptedCmp5         2240 non-null   int64         \n",
      " 23  AcceptedCmp1         2240 non-null   int64         \n",
      " 24  AcceptedCmp2         2240 non-null   int64         \n",
      " 25  Complain             2240 non-null   int64         \n",
      " 26  Z_CostContact        2240 non-null   int64         \n",
      " 27  Z_Revenue            2240 non-null   int64         \n",
      " 28  Response             2240 non-null   int64         \n",
      "dtypes: datetime64[ns](1), float64(1), int64(25), object(2)\n",
      "memory usage: 507.6+ KB\n",
      "None\n"
     ]
    }
   ],
   "source": [
    "print (data.info())"
   ]
  },
  {
   "cell_type": "markdown",
   "id": "f2b68fd3-cb90-4ce6-bced-c66736754b93",
   "metadata": {},
   "source": [
    "From this overview of dataset, I found that there are missing values in ‘Income’ columns as only 2,216 observations have been detected in that column while the rest columns have 2,240 observations. ‘Dt_Customer’ column must be in datetime format, that is easier for further time series analysis. "
   ]
  },
  {
   "cell_type": "markdown",
   "id": "94fb390a-771c-4a51-aacf-64086f4f543e",
   "metadata": {},
   "source": [
    "**Step 4: Initial Descriptive analysis**\n",
    "\n",
    "I generated a summary descriptive analysis to gain the initial understanding of the data distribution for each column. "
   ]
  },
  {
   "cell_type": "code",
   "execution_count": 44,
   "id": "f730fe27-bb2e-4294-8e49-375d6f9a0340",
   "metadata": {},
   "outputs": [
    {
     "name": "stdout",
     "output_type": "stream",
     "text": [
      "                      count                           mean  \\\n",
      "ID                   2240.0                    5592.159821   \n",
      "Year_Birth           2240.0                    1968.805804   \n",
      "Income               2240.0                   52237.975446   \n",
      "Kidhome              2240.0                       0.444196   \n",
      "Teenhome             2240.0                        0.50625   \n",
      "Dt_Customer            2240  2013-07-10 10:01:42.857142784   \n",
      "Recency              2240.0                      49.109375   \n",
      "MntWines             2240.0                     303.935714   \n",
      "MntFruits            2240.0                      26.302232   \n",
      "MntMeatProducts      2240.0                         166.95   \n",
      "MntFishProducts      2240.0                      37.525446   \n",
      "MntSweetProducts     2240.0                      27.062946   \n",
      "MntGoldProds         2240.0                      44.021875   \n",
      "NumDealsPurchases    2240.0                          2.325   \n",
      "NumWebPurchases      2240.0                       4.084821   \n",
      "NumCatalogPurchases  2240.0                       2.662054   \n",
      "NumStorePurchases    2240.0                       5.790179   \n",
      "NumWebVisitsMonth    2240.0                       5.316518   \n",
      "AcceptedCmp3         2240.0                       0.072768   \n",
      "AcceptedCmp4         2240.0                       0.074554   \n",
      "AcceptedCmp5         2240.0                       0.072768   \n",
      "AcceptedCmp1         2240.0                       0.064286   \n",
      "AcceptedCmp2         2240.0                       0.013393   \n",
      "Complain             2240.0                       0.009375   \n",
      "Z_CostContact        2240.0                            3.0   \n",
      "Z_Revenue            2240.0                           11.0   \n",
      "Response             2240.0                       0.149107   \n",
      "\n",
      "                                     min                  25%  \\\n",
      "ID                                   0.0              2828.25   \n",
      "Year_Birth                        1893.0               1959.0   \n",
      "Income                            1730.0             35538.75   \n",
      "Kidhome                              0.0                  0.0   \n",
      "Teenhome                             0.0                  0.0   \n",
      "Dt_Customer          2012-07-30 00:00:00  2013-01-16 00:00:00   \n",
      "Recency                              0.0                 24.0   \n",
      "MntWines                             0.0                23.75   \n",
      "MntFruits                            0.0                  1.0   \n",
      "MntMeatProducts                      0.0                 16.0   \n",
      "MntFishProducts                      0.0                  3.0   \n",
      "MntSweetProducts                     0.0                  1.0   \n",
      "MntGoldProds                         0.0                  9.0   \n",
      "NumDealsPurchases                    0.0                  1.0   \n",
      "NumWebPurchases                      0.0                  2.0   \n",
      "NumCatalogPurchases                  0.0                  0.0   \n",
      "NumStorePurchases                    0.0                  3.0   \n",
      "NumWebVisitsMonth                    0.0                  3.0   \n",
      "AcceptedCmp3                         0.0                  0.0   \n",
      "AcceptedCmp4                         0.0                  0.0   \n",
      "AcceptedCmp5                         0.0                  0.0   \n",
      "AcceptedCmp1                         0.0                  0.0   \n",
      "AcceptedCmp2                         0.0                  0.0   \n",
      "Complain                             0.0                  0.0   \n",
      "Z_CostContact                        3.0                  3.0   \n",
      "Z_Revenue                           11.0                 11.0   \n",
      "Response                             0.0                  0.0   \n",
      "\n",
      "                                     50%                  75%  \\\n",
      "ID                                5458.5              8427.75   \n",
      "Year_Birth                        1970.0               1977.0   \n",
      "Income                           51381.5             68289.75   \n",
      "Kidhome                              0.0                  1.0   \n",
      "Teenhome                             0.0                  1.0   \n",
      "Dt_Customer          2013-07-08 12:00:00  2013-12-30 06:00:00   \n",
      "Recency                             49.0                 74.0   \n",
      "MntWines                           173.5               504.25   \n",
      "MntFruits                            8.0                 33.0   \n",
      "MntMeatProducts                     67.0                232.0   \n",
      "MntFishProducts                     12.0                 50.0   \n",
      "MntSweetProducts                     8.0                 33.0   \n",
      "MntGoldProds                        24.0                 56.0   \n",
      "NumDealsPurchases                    2.0                  3.0   \n",
      "NumWebPurchases                      4.0                  6.0   \n",
      "NumCatalogPurchases                  2.0                  4.0   \n",
      "NumStorePurchases                    5.0                  8.0   \n",
      "NumWebVisitsMonth                    6.0                  7.0   \n",
      "AcceptedCmp3                         0.0                  0.0   \n",
      "AcceptedCmp4                         0.0                  0.0   \n",
      "AcceptedCmp5                         0.0                  0.0   \n",
      "AcceptedCmp1                         0.0                  0.0   \n",
      "AcceptedCmp2                         0.0                  0.0   \n",
      "Complain                             0.0                  0.0   \n",
      "Z_CostContact                        3.0                  3.0   \n",
      "Z_Revenue                           11.0                 11.0   \n",
      "Response                             0.0                  0.0   \n",
      "\n",
      "                                     max           std  \n",
      "ID                               11191.0   3246.662198  \n",
      "Year_Birth                        1996.0     11.984069  \n",
      "Income                          666666.0  25037.955891  \n",
      "Kidhome                              2.0      0.538398  \n",
      "Teenhome                             2.0      0.544538  \n",
      "Dt_Customer          2014-06-29 00:00:00           NaN  \n",
      "Recency                             99.0     28.962453  \n",
      "MntWines                          1493.0    336.597393  \n",
      "MntFruits                          199.0     39.773434  \n",
      "MntMeatProducts                   1725.0    225.715373  \n",
      "MntFishProducts                    259.0     54.628979  \n",
      "MntSweetProducts                   263.0     41.280498  \n",
      "MntGoldProds                       362.0     52.167439  \n",
      "NumDealsPurchases                   15.0      1.932238  \n",
      "NumWebPurchases                     27.0      2.778714  \n",
      "NumCatalogPurchases                 28.0      2.923101  \n",
      "NumStorePurchases                   13.0      3.250958  \n",
      "NumWebVisitsMonth                   20.0      2.426645  \n",
      "AcceptedCmp3                         1.0      0.259813  \n",
      "AcceptedCmp4                         1.0      0.262728  \n",
      "AcceptedCmp5                         1.0      0.259813  \n",
      "AcceptedCmp1                         1.0      0.245316  \n",
      "AcceptedCmp2                         1.0      0.114976  \n",
      "Complain                             1.0      0.096391  \n",
      "Z_CostContact                        3.0           0.0  \n",
      "Z_Revenue                           11.0           0.0  \n",
      "Response                             1.0      0.356274  \n",
      "         Education Marital_Status\n",
      "count         2240           2240\n",
      "unique           5              6\n",
      "top     Graduation        Married\n",
      "freq          1127            864\n"
     ]
    }
   ],
   "source": [
    "descriptive_analysis = data.describe ().T\n",
    "print (descriptive_analysis)\n",
    "\n",
    "# Check including 'object' columns \n",
    "\n",
    "descriptive_analysis_obj = data.describe (include = 'object')\n",
    "print (descriptive_analysis_obj)"
   ]
  },
  {
   "cell_type": "markdown",
   "id": "73e0c6c1-0d1c-4e97-9f82-4d2dfe5f8d5a",
   "metadata": {},
   "source": [
    "Mean, standard deviation and minimum, maximum and different portion of the dataset can be seen for each feature. The detail exploration and cleaning will carry out in the next step. I found out that Z_CostContact and Z_Revenue columns does not have value added information in the dataset, I will ignore this two extra columns in the other steps. "
   ]
  },
  {
   "cell_type": "markdown",
   "id": "2b027ee5-4b5b-4c9d-939d-f61e93eab567",
   "metadata": {},
   "source": [
    "**Step 5: Data Cleaning and Transformation**\n",
    "\n",
    "In this step, I will focus on data cleaning and transformation process to refine the dataset. It means, checking duplicates, handling missing values, handling outliers and other necessary adjustments will be included to prepare the data for in depth analysis and modeling for the remaining questions. \n",
    "\n",
    "**Step 5.1: Checking Duplicates**"
   ]
  },
  {
   "cell_type": "code",
   "execution_count": 45,
   "id": "2bbe475f-018b-4141-9489-6ddda938c88c",
   "metadata": {},
   "outputs": [
    {
     "name": "stdout",
     "output_type": "stream",
     "text": [
      "Empty DataFrame\n",
      "Columns: [ID, Year_Birth, Education, Marital_Status, Income, Kidhome, Teenhome, Dt_Customer, Recency, MntWines, MntFruits, MntMeatProducts, MntFishProducts, MntSweetProducts, MntGoldProds, NumDealsPurchases, NumWebPurchases, NumCatalogPurchases, NumStorePurchases, NumWebVisitsMonth, AcceptedCmp3, AcceptedCmp4, AcceptedCmp5, AcceptedCmp1, AcceptedCmp2, Complain, Z_CostContact, Z_Revenue, Response]\n",
      "Index: []\n",
      "\n",
      "[0 rows x 29 columns]\n"
     ]
    }
   ],
   "source": [
    "print (data [data.duplicated(keep=False)])"
   ]
  },
  {
   "cell_type": "markdown",
   "id": "206c40ad-6403-4de4-9274-3c113106163d",
   "metadata": {},
   "source": [
    "No duplicated values are found in the dataset. "
   ]
  },
  {
   "cell_type": "markdown",
   "id": "5d76ea41-034a-4295-a306-c8d1b036d0f5",
   "metadata": {},
   "source": [
    "**Step 5.2: Handling Missing Values**"
   ]
  },
  {
   "cell_type": "code",
   "execution_count": 46,
   "id": "e75153d7-124e-4a8a-a242-e91c2980fd34",
   "metadata": {},
   "outputs": [
    {
     "name": "stdout",
     "output_type": "stream",
     "text": [
      "ID                     0\n",
      "Year_Birth             0\n",
      "Education              0\n",
      "Marital_Status         0\n",
      "Income                 0\n",
      "Kidhome                0\n",
      "Teenhome               0\n",
      "Dt_Customer            0\n",
      "Recency                0\n",
      "MntWines               0\n",
      "MntFruits              0\n",
      "MntMeatProducts        0\n",
      "MntFishProducts        0\n",
      "MntSweetProducts       0\n",
      "MntGoldProds           0\n",
      "NumDealsPurchases      0\n",
      "NumWebPurchases        0\n",
      "NumCatalogPurchases    0\n",
      "NumStorePurchases      0\n",
      "NumWebVisitsMonth      0\n",
      "AcceptedCmp3           0\n",
      "AcceptedCmp4           0\n",
      "AcceptedCmp5           0\n",
      "AcceptedCmp1           0\n",
      "AcceptedCmp2           0\n",
      "Complain               0\n",
      "Z_CostContact          0\n",
      "Z_Revenue              0\n",
      "Response               0\n",
      "dtype: int64\n"
     ]
    }
   ],
   "source": [
    "missing_values = data.isnull().sum(axis=0)\n",
    "print (missing_values)"
   ]
  },
  {
   "cell_type": "markdown",
   "id": "61ea2ed7-4c45-4149-b8f0-543639a69452",
   "metadata": {},
   "source": [
    "In the earlier step, I already found out that ‘Income’ has some missing values I need to address. 24 empty entries are found under ‘Income’ columns. Before deciding how to handle the missing value in ‘Income’ column, I decided to plot the distribution of the 'Income' column to decide which imputation method I should use."
   ]
  },
  {
   "cell_type": "code",
   "execution_count": 47,
   "id": "c06a7e92-1e72-4524-b949-ebbf31d8033b",
   "metadata": {},
   "outputs": [
    {
     "data": {
      "image/png": "[encoded data removed]",
      "text/plain": [
       "<Figure size 1200x600 with 1 Axes>"
      ]
     },
     "metadata": {},
     "output_type": "display_data"
    }
   ],
   "source": [
    "# Plotting the distribution of the 'Income' column \n",
    "plt.figure(figsize=(12,6))\n",
    "plt.hist(data['Income'].dropna(), bins = 30, color = 'wheat', edgecolor= 'grey')\n",
    "plt.title('Distribution plot for Income')\n",
    "plt.xlabel('Income')\n",
    "plt.ylabel('Frequency') \n",
    "plt.grid(False)\n",
    "plt.show()  "
   ]
  },
  {
   "cell_type": "markdown",
   "id": "90bd3746-7844-4a2f-b748-41fd2e10c1f1",
   "metadata": {},
   "source": [
    "According to the above figure, I found that it is right-skewed, with most values concentrated between 0 and 100,000. In this case, using the median to fill the missing values is preferred because it is less affected by extreme values (outliers) compared to the mean. "
   ]
  },
  {
   "cell_type": "code",
   "execution_count": 48,
   "id": "634ab8ee-f368-4c78-8984-796b8a7162d8",
   "metadata": {},
   "outputs": [
    {
     "data": {
      "text/plain": [
       "ID                     0\n",
       "Year_Birth             0\n",
       "Education              0\n",
       "Marital_Status         0\n",
       "Income                 0\n",
       "Kidhome                0\n",
       "Teenhome               0\n",
       "Dt_Customer            0\n",
       "Recency                0\n",
       "MntWines               0\n",
       "MntFruits              0\n",
       "MntMeatProducts        0\n",
       "MntFishProducts        0\n",
       "MntSweetProducts       0\n",
       "MntGoldProds           0\n",
       "NumDealsPurchases      0\n",
       "NumWebPurchases        0\n",
       "NumCatalogPurchases    0\n",
       "NumStorePurchases      0\n",
       "NumWebVisitsMonth      0\n",
       "AcceptedCmp3           0\n",
       "AcceptedCmp4           0\n",
       "AcceptedCmp5           0\n",
       "AcceptedCmp1           0\n",
       "AcceptedCmp2           0\n",
       "Complain               0\n",
       "Z_CostContact          0\n",
       "Z_Revenue              0\n",
       "Response               0\n",
       "dtype: int64"
      ]
     },
     "execution_count": 48,
     "metadata": {},
     "output_type": "execute_result"
    }
   ],
   "source": [
    "# Proceed to imputate the missing values with 'Median' value for Income Column \n",
    "median_income = data['Income'].median()\n",
    "\n",
    "# Replace the 'median' value in the missing values of Income column \n",
    "data['Income'].fillna(median_income, inplace = True)\n",
    "\n",
    "# Check again if there is any remaining missing values in the dataset\n",
    "data.isnull().sum(axis=0)\n",
    "\n",
    "# No more missing values, especially in 'Income' column. "
   ]
  },
  {
   "cell_type": "markdown",
   "id": "f91bd1c7-9dd9-41e7-97dc-f58521502819",
   "metadata": {},
   "source": [
    "**Step 5.3: Identify the garbage values in 'object' columns**"
   ]
  },
  {
   "cell_type": "code",
   "execution_count": 49,
   "id": "f55d32f0-7428-48ba-bb9b-39e0987d50d8",
   "metadata": {},
   "outputs": [
    {
     "name": "stdout",
     "output_type": "stream",
     "text": [
      "Education\n",
      "Graduation    1127\n",
      "PhD            486\n",
      "Master         370\n",
      "2n Cycle       203\n",
      "Basic           54\n",
      "Name: count, dtype: int64\n",
      "******************************\n",
      "Marital_Status\n",
      "Married     864\n",
      "Together    580\n",
      "Single      480\n",
      "Divorced    232\n",
      "Widow        77\n",
      "Other         7\n",
      "Name: count, dtype: int64\n",
      "******************************\n"
     ]
    }
   ],
   "source": [
    "for i in data.select_dtypes(include=\"object\").columns:\n",
    "    print (data [i]. value_counts())\n",
    "    print (\"***\"*10)"
   ]
  },
  {
   "cell_type": "markdown",
   "id": "8122b9f3-120d-4ab3-b647-92e8dead8216",
   "metadata": {},
   "source": [
    "I observed that the education level is dominated by 'Graduation' with 1,127 entries and 'PhD' with 486 entries, and marital status is mostly contributed by ‘Married’ (864 entries) and ‘Together’ (580 entries). However, there are some uncommon entries under marital status such as 'Alone', 'Absurd', 'YOLO'. Those might be the errors from data entry or data collection. So, I will replace those entries as 'Other' category under 'marital status'. Moreover, the Dt_customer columns should be the datetime format, I will modify that. "
   ]
  },
  {
   "cell_type": "code",
   "execution_count": 50,
   "id": "5c82502d-e60d-46f1-9803-0480dc0fc950",
   "metadata": {},
   "outputs": [],
   "source": [
    "# To Clean the 'Marital_Status' column\n",
    "# Replace 'Alone', 'Absurd' and 'YOLO' with 'Other'\n",
    "data['Marital_Status'] = data['Marital_Status'].replace(['Alone','Absurd', 'YOLO'], 'Other')"
   ]
  },
  {
   "cell_type": "code",
   "execution_count": 32,
   "id": "2caf0a67-e085-43ce-8adb-8a2e8febf255",
   "metadata": {},
   "outputs": [
    {
     "name": "stdout",
     "output_type": "stream",
     "text": [
      "Marital_Status\n",
      "Married     864\n",
      "Together    580\n",
      "Single      480\n",
      "Divorced    232\n",
      "Widow        77\n",
      "Other         7\n",
      "Name: count, dtype: int64\n"
     ]
    }
   ],
   "source": [
    "# Verify the cleaning\n",
    "print(data['Marital_Status'].value_counts())"
   ]
  },
  {
   "cell_type": "code",
   "execution_count": 33,
   "id": "009b7bbc-0e3d-478b-91e8-e5b710704574",
   "metadata": {},
   "outputs": [],
   "source": [
    "# Convert 'Dt_Customer' column to datetime format\n",
    "data['Dt_Customer'] = pd.to_datetime(data['Dt_Customer'], format='%d-%m-%Y')"
   ]
  },
  {
   "cell_type": "code",
   "execution_count": 34,
   "id": "2856b358-2cbb-465c-888e-3152a75003e7",
   "metadata": {},
   "outputs": [
    {
     "name": "stdout",
     "output_type": "stream",
     "text": [
      "0   2012-09-04\n",
      "1   2014-03-08\n",
      "2   2013-08-21\n",
      "3   2014-02-10\n",
      "4   2014-01-19\n",
      "Name: Dt_Customer, dtype: datetime64[ns]\n"
     ]
    }
   ],
   "source": [
    "# Verify the conversion\n",
    "print(data['Dt_Customer'].head())"
   ]
  },
  {
   "cell_type": "markdown",
   "id": "cee5f90b-5c9f-464e-b9d8-03502b889e1c",
   "metadata": {},
   "source": [
    "**Step 6: Feature Engineering**\n",
    "\n",
    "Before starting any major modification in the dataset, it is a good practice to make a copy of the original dataset and perform all modifications on the copied version. By preserving the original dataset, I can always have access to the raw data to revisit or validate the analysis and apply different data preprocessing or analysis techniques."
   ]
  },
  {
   "cell_type": "code",
   "execution_count": 38,
   "id": "239adfbe-f15d-4ea4-84d9-e0d8c1f28b55",
   "metadata": {},
   "outputs": [],
   "source": [
    "data_features = data.copy()"
   ]
  },
  {
   "cell_type": "markdown",
   "id": "fa06deda-02e5-4751-82f9-8a936258610e",
   "metadata": {},
   "source": [
    "To create a comprehensive dataset to enhance the quality of analysis and modeling, several feature engineering processes can be done based on the available given dataset. So, I added below eight columns during the features engineering process. \n",
    "\n",
    "1.\tCustomer_Age: Calculated the customer’s current age from Year_Birth column, making it easier to segment customers based on age.\n",
    "2.\tCustomer_tenure: Derived the number of months since the customer enrolled with the company by using Dt_Customer column.\n",
    "3.\tFamily_size: Calculated the family size by adding Kidhome, Teenhome, and assuming two adults. So that, the spending and purchase behaviours can be analysed based on the family size. \n",
    "4.\tTotal_spending: Sum up all the spending columns (MntWines, MntFruits, etc.) to get the customer’s total spending in the last two years.\n",
    "5.\tAverage Spending per Purchase: Average spending per purchase across all categories is calculated by dividing Total_Spending by the total purchases (sum of NumDealsPurchases, NumWebPurchases, NumCatalogPurchases, NumStorePurchases).\n",
    "6.\tCampaign Acceptance Rate: Calculated the percentage of campaigns a customer has accepted to understand their responsiveness to marketing by using AcceptedCmp1 to 5. \n",
    "7.\tPreferred Purchase Channel: Find out the customer’s most common purchase channel based on the highest value among NumWebPurchases, NumCatalogPurchases, and NumStorePurchases.\n",
    "8.\tComplaint Response Interaction: Check if customers who complained were more likely to respond to the most recent campaign by creating an interaction feature."
   ]
  },
  {
   "cell_type": "code",
   "execution_count": 39,
   "id": "9f583151-2825-42be-a42c-f8e9ac05e7bc",
   "metadata": {},
   "outputs": [],
   "source": [
    "# Step 6.1: Find the customer age \n",
    "\n",
    "data_features['Customer_Age'] = datetime.now().year - data_features['Year_Birth']\n",
    "\n",
    "# Step 6.2: Calculate 'Customer_tenure' \n",
    "\n",
    "data_features['Customer_tenure'] = (pd.Timestamp('today') - data_features['Dt_Customer']).dt.days//30\n",
    "\n",
    "# Step 6.3: Calculate 'Family Size'\n",
    "\n",
    "data_features['Family_size'] = data_features['Kidhome'] + data_features['Teenhome'] + 2 #Generally assuming 2 adults at home\n",
    "\n",
    "# Step 6.4: Calculate 'Total Spending in last two years'\n",
    "\n",
    "data_features['Total_spending'] = data_features[['MntWines', 'MntFruits', 'MntMeatProducts', \n",
    "                                'MntFishProducts', 'MntSweetProducts', 'MntGoldProds']].sum(axis=1)"
   ]
  },
  {
   "cell_type": "code",
   "execution_count": 39,
   "id": "cd6c7b8f-0db8-4f81-a9fd-32e54ecce594",
   "metadata": {},
   "outputs": [],
   "source": [
    "# Step 6.5: Calculate Average Spending per Purchase\n",
    "\n",
    "data_features['Total_purchase'] = data_features[['NumDealsPurchases', 'NumWebPurchases', \n",
    "                                'NumCatalogPurchases', 'NumStorePurchases']].sum(axis=1)\n",
    "\n",
    "data_features['Avg_spending/purchase'] = data_features['Total_spending'] / data_features['Total_purchase']\n",
    "\n",
    "# Step 6.6: Campaign acceptance rate\n",
    "\n",
    "campaign_cols = ['AcceptedCmp1', 'AcceptedCmp2', 'AcceptedCmp3', 'AcceptedCmp4', 'AcceptedCmp5']\n",
    "data_features['Campaign_Acceptance_Rate'] = data_features[campaign_cols].mean(axis=1)\n",
    "\n",
    "# Step 6.7: Preferred Purchase Channel\n",
    "\n",
    "data_features['Preferred_Purchase_Channel'] = data_features[['NumWebPurchases', 'NumCatalogPurchases', \n",
    "                                                             'NumStorePurchases']].idxmax(axis=1)\n",
    "\n",
    "# Step 6.8: Complaint Response Interaction\n",
    "\n",
    "data_features['Complaint_Response_Interaction'] = data_features['Complain'] * data_features['Response']"
   ]
  },
  {
   "cell_type": "markdown",
   "id": "6f3d770d-997e-48e4-88a7-b3efc1482f9f",
   "metadata": {},
   "source": [
    "These newly created features can help refine customer segmentation, identify high-value customers, and create insightful variables for predictive modeling or clustering analysis."
   ]
  },
  {
   "cell_type": "markdown",
   "id": "037e7c34-1e31-4fc6-a929-b35fb5691d8e",
   "metadata": {},
   "source": [
    "**Step 7: Outliers Detection and Treatment**\n",
    "\n",
    "**Step 7.1: IQR Outlier Detection and Handling**\n",
    "\n",
    "It is tricky to handle the outliers in this beginning step because one of the objectives of the assignment is to design K-means clustering in Q1b for customer segmentation based on their profile. Normally, in K-means clustering, the algorithm is sensitive to both the scale of data and the presence of outliers, as they can significantly influence the position of centroids, potentially leading to incorrect cluster assignments. So, I first detect the outliers by using the Interquartile Range (IQR) method. The results indicated the presence of outliers across several key variables as shown below. "
   ]
  },
  {
   "cell_type": "code",
   "execution_count": 51,
   "id": "85c9f000-0582-470c-91b7-910ac56992ce",
   "metadata": {},
   "outputs": [],
   "source": [
    "#Select only numeric columns and exclude the Derived Columns such as Campaign Acceptance Rate\n",
    "\n",
    "columns = data_features.select_dtypes(include=\"number\").columns\n",
    "columns = columns.drop(['AcceptedCmp1','AcceptedCmp2','AcceptedCmp3','AcceptedCmp4',\n",
    "                        'AcceptedCmp5', 'Campaign_Acceptance_Rate', 'Complain', \n",
    "                        'Z_CostContact', 'Z_Revenue', 'Response'])\n",
    "    \n",
    "# Define a function to calculate IQR and apply capping on outliers\n",
    "def iqr_outlier_handling(data_features, columns):\n",
    "    # Create a dictionary to store the outlier counts for each column\n",
    "    outlier_counts = {}\n",
    "\n",
    "    # Calculate IQR and handle outliers\n",
    "    for col in columns:\n",
    "        # Calculate Q1 (25th percentile) and Q3 (75th percentile)\n",
    "        Q1 = data_features[col].quantile(0.25)\n",
    "        Q3 = data_features[col].quantile(0.75)\n",
    "        IQR = Q3 - Q1  # Calculate IQR\n",
    "\n",
    "        # Define bounds for outliers\n",
    "        lower_bound = Q1 - 1.5 * IQR\n",
    "        upper_bound = Q3 + 1.5 * IQR\n",
    "\n",
    "        # Count the outliers before capping for record-keeping\n",
    "        outliers = data_features[(data_features[col] < lower_bound) | (data_features[col] > upper_bound)]\n",
    "        outlier_counts[col] = len(outliers)\n",
    "        \n",
    "        # Cap the outliers\n",
    "        data_features[col] = data_features[col].clip(lower=lower_bound, upper=upper_bound)\n",
    "        \n",
    "    return data_features, outlier_counts"
   ]
  },
  {
   "cell_type": "code",
   "execution_count": 52,
   "id": "47105e3a-5f96-4e2a-915d-1f30d4880213",
   "metadata": {},
   "outputs": [
    {
     "name": "stdout",
     "output_type": "stream",
     "text": [
      "Outliers detected per column before capping:\n",
      "{'ID': 0, 'Year_Birth': 3, 'Income': 8, 'Kidhome': 0, 'Teenhome': 0, 'Recency': 0, 'MntWines': 35, 'MntFruits': 227, 'MntMeatProducts': 175, 'MntFishProducts': 223, 'MntSweetProducts': 248, 'MntGoldProds': 207, 'NumDealsPurchases': 86, 'NumWebPurchases': 4, 'NumCatalogPurchases': 23, 'NumStorePurchases': 0, 'NumWebVisitsMonth': 8, 'Customer_Age': 3, 'Customer_tenure': 0, 'Family_size': 53, 'Total_spending': 3, 'Total_purchase': 2, 'Avg_spending/purchase': 101, 'Complaint_Response_Interaction': 3}\n"
     ]
    }
   ],
   "source": [
    "# Apply the IQR outlier handling to the dataset's numeric columns\n",
    "data_iqr_handled, outlier_counts = iqr_outlier_handling(data_features, columns)\n",
    "\n",
    "# Display the number of outliers detected per column\n",
    "print(\"Outliers detected per column before capping:\")\n",
    "print(outlier_counts)"
   ]
  },
  {
   "cell_type": "markdown",
   "id": "72e8363c-7d4c-4bc8-8525-c64626649e47",
   "metadata": {},
   "source": [
    "The column ‘Year_Birth’ and many of monetary columns such as Income, amount spending on different products has outliers, I will use use the **Isolation Forest algorithm** to detect the outliers by randomly selecting a feature from a given sets of features and then, randomly choose a split value between the max and min values of the features. \n",
    "\n",
    "After applying the Isolation Forest algorithm, I have identified the outliers and marked them in a new column named Is_Outlier. I have also calculated the outlier scores which represent the outlier score of each record. Now I will visualize the distribution of these scores and the number of inliers and outliers detected by the model."
   ]
  },
  {
   "cell_type": "code",
   "execution_count": 56,
   "id": "c737a15d-b3ce-4a62-a413-c3ee5e3f9f06",
   "metadata": {},
   "outputs": [
    {
     "data": {
      "text/html": [
       "<div>\n",
       "<style scoped>\n",
       "    .dataframe tbody tr th:only-of-type {\n",
       "        vertical-align: middle;\n",
       "    }\n",
       "\n",
       "    .dataframe tbody tr th {\n",
       "        vertical-align: top;\n",
       "    }\n",
       "\n",
       "    .dataframe thead th {\n",
       "        text-align: right;\n",
       "    }\n",
       "</style>\n",
       "<table border=\"1\" class=\"dataframe\">\n",
       "  <thead>\n",
       "    <tr style=\"text-align: right;\">\n",
       "      <th></th>\n",
       "      <th>ID</th>\n",
       "      <th>Year_Birth</th>\n",
       "      <th>Education</th>\n",
       "      <th>Marital_Status</th>\n",
       "      <th>Income</th>\n",
       "      <th>Kidhome</th>\n",
       "      <th>Teenhome</th>\n",
       "      <th>Dt_Customer</th>\n",
       "      <th>Recency</th>\n",
       "      <th>MntWines</th>\n",
       "      <th>...</th>\n",
       "      <th>Customer_tenure</th>\n",
       "      <th>Family_size</th>\n",
       "      <th>Total_spending</th>\n",
       "      <th>Total_purchase</th>\n",
       "      <th>Avg_spending/purchase</th>\n",
       "      <th>Campaign_Acceptance_Rate</th>\n",
       "      <th>Preferred_Purchase_Channel</th>\n",
       "      <th>Complaint_Response_Interaction</th>\n",
       "      <th>Outlier_Scores</th>\n",
       "      <th>Is_Outlier</th>\n",
       "    </tr>\n",
       "  </thead>\n",
       "  <tbody>\n",
       "    <tr>\n",
       "      <th>0</th>\n",
       "      <td>5524</td>\n",
       "      <td>1957</td>\n",
       "      <td>Graduation</td>\n",
       "      <td>Single</td>\n",
       "      <td>58138.0</td>\n",
       "      <td>0</td>\n",
       "      <td>0</td>\n",
       "      <td>2012-09-04</td>\n",
       "      <td>58</td>\n",
       "      <td>635</td>\n",
       "      <td>...</td>\n",
       "      <td>150</td>\n",
       "      <td>2.0</td>\n",
       "      <td>1617.0</td>\n",
       "      <td>25.0</td>\n",
       "      <td>64.680000</td>\n",
       "      <td>0.0</td>\n",
       "      <td>NumCatalogPurchases</td>\n",
       "      <td>0</td>\n",
       "      <td>1</td>\n",
       "      <td>0</td>\n",
       "    </tr>\n",
       "    <tr>\n",
       "      <th>1</th>\n",
       "      <td>2174</td>\n",
       "      <td>1954</td>\n",
       "      <td>Graduation</td>\n",
       "      <td>Single</td>\n",
       "      <td>46344.0</td>\n",
       "      <td>1</td>\n",
       "      <td>1</td>\n",
       "      <td>2014-03-08</td>\n",
       "      <td>38</td>\n",
       "      <td>11</td>\n",
       "      <td>...</td>\n",
       "      <td>131</td>\n",
       "      <td>4.0</td>\n",
       "      <td>27.0</td>\n",
       "      <td>6.0</td>\n",
       "      <td>4.500000</td>\n",
       "      <td>0.0</td>\n",
       "      <td>NumStorePurchases</td>\n",
       "      <td>0</td>\n",
       "      <td>1</td>\n",
       "      <td>0</td>\n",
       "    </tr>\n",
       "    <tr>\n",
       "      <th>2</th>\n",
       "      <td>4141</td>\n",
       "      <td>1965</td>\n",
       "      <td>Graduation</td>\n",
       "      <td>Together</td>\n",
       "      <td>71613.0</td>\n",
       "      <td>0</td>\n",
       "      <td>0</td>\n",
       "      <td>2013-08-21</td>\n",
       "      <td>26</td>\n",
       "      <td>426</td>\n",
       "      <td>...</td>\n",
       "      <td>138</td>\n",
       "      <td>2.0</td>\n",
       "      <td>776.0</td>\n",
       "      <td>21.0</td>\n",
       "      <td>36.952381</td>\n",
       "      <td>0.0</td>\n",
       "      <td>NumStorePurchases</td>\n",
       "      <td>0</td>\n",
       "      <td>1</td>\n",
       "      <td>0</td>\n",
       "    </tr>\n",
       "    <tr>\n",
       "      <th>3</th>\n",
       "      <td>6182</td>\n",
       "      <td>1984</td>\n",
       "      <td>Graduation</td>\n",
       "      <td>Together</td>\n",
       "      <td>26646.0</td>\n",
       "      <td>1</td>\n",
       "      <td>0</td>\n",
       "      <td>2014-02-10</td>\n",
       "      <td>26</td>\n",
       "      <td>11</td>\n",
       "      <td>...</td>\n",
       "      <td>132</td>\n",
       "      <td>3.0</td>\n",
       "      <td>53.0</td>\n",
       "      <td>8.0</td>\n",
       "      <td>6.625000</td>\n",
       "      <td>0.0</td>\n",
       "      <td>NumStorePurchases</td>\n",
       "      <td>0</td>\n",
       "      <td>1</td>\n",
       "      <td>0</td>\n",
       "    </tr>\n",
       "    <tr>\n",
       "      <th>4</th>\n",
       "      <td>5324</td>\n",
       "      <td>1981</td>\n",
       "      <td>PhD</td>\n",
       "      <td>Married</td>\n",
       "      <td>58293.0</td>\n",
       "      <td>1</td>\n",
       "      <td>0</td>\n",
       "      <td>2014-01-19</td>\n",
       "      <td>94</td>\n",
       "      <td>173</td>\n",
       "      <td>...</td>\n",
       "      <td>133</td>\n",
       "      <td>3.0</td>\n",
       "      <td>422.0</td>\n",
       "      <td>19.0</td>\n",
       "      <td>22.210526</td>\n",
       "      <td>0.0</td>\n",
       "      <td>NumStorePurchases</td>\n",
       "      <td>0</td>\n",
       "      <td>1</td>\n",
       "      <td>0</td>\n",
       "    </tr>\n",
       "  </tbody>\n",
       "</table>\n",
       "<p>5 rows × 40 columns</p>\n",
       "</div>"
      ],
      "text/plain": [
       "     ID  Year_Birth   Education Marital_Status   Income  Kidhome  Teenhome  \\\n",
       "0  5524        1957  Graduation         Single  58138.0        0         0   \n",
       "1  2174        1954  Graduation         Single  46344.0        1         1   \n",
       "2  4141        1965  Graduation       Together  71613.0        0         0   \n",
       "3  6182        1984  Graduation       Together  26646.0        1         0   \n",
       "4  5324        1981         PhD        Married  58293.0        1         0   \n",
       "\n",
       "  Dt_Customer  Recency  MntWines  ...  Customer_tenure  Family_size  \\\n",
       "0  2012-09-04       58       635  ...              150          2.0   \n",
       "1  2014-03-08       38        11  ...              131          4.0   \n",
       "2  2013-08-21       26       426  ...              138          2.0   \n",
       "3  2014-02-10       26        11  ...              132          3.0   \n",
       "4  2014-01-19       94       173  ...              133          3.0   \n",
       "\n",
       "   Total_spending  Total_purchase  Avg_spending/purchase  \\\n",
       "0          1617.0            25.0              64.680000   \n",
       "1            27.0             6.0               4.500000   \n",
       "2           776.0            21.0              36.952381   \n",
       "3            53.0             8.0               6.625000   \n",
       "4           422.0            19.0              22.210526   \n",
       "\n",
       "   Campaign_Acceptance_Rate  Preferred_Purchase_Channel  \\\n",
       "0                       0.0         NumCatalogPurchases   \n",
       "1                       0.0           NumStorePurchases   \n",
       "2                       0.0           NumStorePurchases   \n",
       "3                       0.0           NumStorePurchases   \n",
       "4                       0.0           NumStorePurchases   \n",
       "\n",
       "   Complaint_Response_Interaction  Outlier_Scores  Is_Outlier  \n",
       "0                               0               1           0  \n",
       "1                               0               1           0  \n",
       "2                               0               1           0  \n",
       "3                               0               1           0  \n",
       "4                               0               1           0  \n",
       "\n",
       "[5 rows x 40 columns]"
      ]
     },
     "execution_count": 56,
     "metadata": {},
     "output_type": "execute_result"
    }
   ],
   "source": [
    "# Step 7.2: Outlier treatment\n",
    "# Select only numeric columns\n",
    "\n",
    "numeric_data = data_features.select_dtypes(include=['number'])\n",
    "\n",
    "# Initializing the IsolationForest model with a contamination parameter of 0.05\n",
    "model = IsolationForest(contamination=0.05, random_state=0)\n",
    "\n",
    "# Fitting the model on our dataset (converting DataFrame to NumPy to avoid warning)\n",
    "data_features['Outlier_Scores'] = model.fit_predict(numeric_data.to_numpy())\n",
    "# -1 indicates an outlier, 1 indicates an inlier\n",
    "\n",
    "# Creating a new column to identify outliers \n",
    "data_features['Is_Outlier'] = [1 if x == -1 else 0 for x in data_features['Outlier_Scores']]\n",
    "\n",
    "# Display the first few rows of the data_features dataframe\n",
    "data_features.head()"
   ]
  },
  {
   "cell_type": "markdown",
   "id": "84f42435-f6ca-483b-ae83-67f442cc8ce1",
   "metadata": {},
   "source": [
    "After applying the Isolation Forest algorithm, I have identified the outliers and marked them in a new column named Is_Outlier. I have also calculated the outlier scores which represent the anomaly score of each record.\n",
    "Now I will visualize the distribution of these scores and the number of inliers and outliers detected by the model. "
   ]
  },
  {
   "cell_type": "code",
   "execution_count": 54,
   "id": "6358dfa4-3383-41a2-b19f-f4987ba4c242",
   "metadata": {},
   "outputs": [
    {
     "data": {
      "image/png": "[encoded data removed]",
      "text/plain": [
       "<Figure size 1200x400 with 1 Axes>"
      ]
     },
     "metadata": {},
     "output_type": "display_data"
    }
   ],
   "source": [
    "# Calculate the percentage of inliers and outliers\n",
    "outlier_percentage = data_features['Is_Outlier'].value_counts(normalize=True) * 100\n",
    "\n",
    "# Plotting the percentage of inliers and outliers\n",
    "plt.figure(figsize=(12, 4))\n",
    "outlier_percentage.plot(kind='barh', color='#ff6200')\n",
    "\n",
    "# Adding the percentage labels on the bars\n",
    "for index, value in enumerate(outlier_percentage):\n",
    "    plt.text(value, index, f'{value:.2f}%', fontsize=15)\n",
    "\n",
    "plt.title('Percentage of Inliers and Outliers', fontsize=14, fontweight='bold', color='darkblue')\n",
    "plt.xticks(ticks=np.arange(0, 115, 5))\n",
    "plt.xlabel('Percentage (%)', fontsize=12)\n",
    "plt.ylabel('Is Outlier', fontsize=12)\n",
    "plt.grid(False)\n",
    "plt.gca().invert_yaxis()\n",
    "plt.show()"
   ]
  },
  {
   "cell_type": "markdown",
   "id": "a9cf7ad8-699b-447e-85e7-004f218f03cb",
   "metadata": {},
   "source": [
    "From the above plot, I observed that around 5% of the customers are identified as outliers in the dataset. This percentage seems to be reasonable enough to remove those outliers from main dataset, as they are not too high to lose a significant amount of data, and not too small to retain potentially noisy data points. So, I separated those outliers as a separate data frame and remove them from the main dataset which I will be using for the clustering analysis. As a result, 2,128 entries remain in the updated dataset. "
   ]
  },
  {
   "cell_type": "code",
   "execution_count": null,
   "id": "93c73d1a-edb7-422b-be35-f6745688f87d",
   "metadata": {},
   "outputs": [],
   "source": []
  },
  {
   "cell_type": "code",
   "execution_count": 61,
   "id": "d9a0074c-103b-46c5-9d87-f53df7dbb22a",
   "metadata": {},
   "outputs": [
    {
     "data": {
      "text/plain": [
       "2128"
      ]
     },
     "execution_count": 61,
     "metadata": {},
     "output_type": "execute_result"
    }
   ],
   "source": [
    "# Step 7.3: Removing Outliers\n",
    "\n",
    "# Separate the outliers for analysis\n",
    "outliers_data = data_features[data_features['Is_Outlier'] == 1]\n",
    "\n",
    "# Remove the outliers from the main dataset\n",
    "data_features_cleaned = data_features[data_features['Is_Outlier'] == 0]\n",
    "\n",
    "# Drop the 'Outlier_Scores' and 'Is_Outlier' columns\n",
    "data_features_cleaned = data_features_cleaned.drop(columns=['Outlier_Scores', 'Is_Outlier'])\n",
    "\n",
    "# Reset the index of the cleaned data\n",
    "data_features_cleaned.reset_index(drop=True, inplace=True)\n",
    "\n",
    "# Getting the number of rows in the cleaned customer dataset\n",
    "data_features_cleaned.shape[0]"
   ]
  },
  {
   "cell_type": "markdown",
   "id": "a3c6f039-447b-4f57-9f82-cd1f66e5e3f6",
   "metadata": {
    "jp-MarkdownHeadingCollapsed": true
   },
   "source": [
    "**Step 8: Data Standardization**\n",
    "\n",
    "Before performing clustering in Part C, firstly, it is important to standardize the data to have mean 0 and variance 1 in the numeric features which I might need to use in the clustering later. I selected some numeric columns to standardize as some of the columns are already in binary variables, such as AcceptedCmp1 to 5, etc. I used StandardScaler and fit the dataset for the selected columns as below. Then, I saved this scaled data separately as ‘data_scaled’.\n"
   ]
  },
  {
   "cell_type": "code",
   "execution_count": 59,
   "id": "06f3f1cc-69e8-43e4-b92d-87fff5ebcb84",
   "metadata": {},
   "outputs": [
    {
     "name": "stdout",
     "output_type": "stream",
     "text": [
      "   Year_Birth    Income   Recency  MntWines  MntFruits  MntMeatProducts  \\\n",
      "0   -1.022607  0.391428  0.308374  1.192408   2.263200         2.385822   \n",
      "1   -1.281555 -0.196007 -0.384536 -0.861560  -0.732137        -0.778371   \n",
      "2   -0.332081  1.062591 -0.800282  0.504460   1.065065        -0.069357   \n",
      "3    1.307920 -1.177125 -0.800282 -0.861560  -0.619812        -0.696336   \n",
      "4    1.048973  0.399149  1.555613 -0.328319   0.840415        -0.122094   \n",
      "\n",
      "   MntFishProducts  MntSweetProducts  MntGoldProds  NumDealsPurchases  \\\n",
      "0         2.287318          2.257087      1.282195           0.478918   \n",
      "1        -0.720329         -0.733112     -0.816758          -0.172288   \n",
      "2         2.046199          0.014438      0.104734          -0.823494   \n",
      "3        -0.517281         -0.658357     -0.842355          -0.172288   \n",
      "4         0.396435          0.238703     -0.586385           1.781330   \n",
      "\n",
      "   NumWebPurchases  NumCatalogPurchases  NumStorePurchases  NumWebVisitsMonth  \\\n",
      "0         1.528851             2.916493          -0.521054           0.694756   \n",
      "1        -1.130704            -0.548131          -1.139634          -0.168567   \n",
      "2         1.528851            -0.163173           1.334684          -0.600229   \n",
      "3        -0.750767            -0.933090          -0.521054           0.263095   \n",
      "4         0.389042             0.221785           0.097525          -0.168567   \n",
      "\n",
      "   Customer_Age  Total_spending  Total_purchase  \n",
      "0      1.022607        1.901344        1.378276  \n",
      "1      1.281555       -0.937220       -1.117926  \n",
      "2      0.332081        0.399940        0.852760  \n",
      "3     -1.307920       -0.890803       -0.855168  \n",
      "4     -1.048973       -0.232042        0.590002  \n",
      "<class 'pandas.core.frame.DataFrame'>\n",
      "RangeIndex: 2128 entries, 0 to 2127\n",
      "Data columns (total 17 columns):\n",
      " #   Column               Non-Null Count  Dtype  \n",
      "---  ------               --------------  -----  \n",
      " 0   Year_Birth           2128 non-null   float64\n",
      " 1   Income               2128 non-null   float64\n",
      " 2   Recency              2128 non-null   float64\n",
      " 3   MntWines             2128 non-null   float64\n",
      " 4   MntFruits            2128 non-null   float64\n",
      " 5   MntMeatProducts      2128 non-null   float64\n",
      " 6   MntFishProducts      2128 non-null   float64\n",
      " 7   MntSweetProducts     2128 non-null   float64\n",
      " 8   MntGoldProds         2128 non-null   float64\n",
      " 9   NumDealsPurchases    2128 non-null   float64\n",
      " 10  NumWebPurchases      2128 non-null   float64\n",
      " 11  NumCatalogPurchases  2128 non-null   float64\n",
      " 12  NumStorePurchases    2128 non-null   float64\n",
      " 13  NumWebVisitsMonth    2128 non-null   float64\n",
      " 14  Customer_Age         2128 non-null   float64\n",
      " 15  Total_spending       2128 non-null   float64\n",
      " 16  Total_purchase       2128 non-null   float64\n",
      "dtypes: float64(17)\n",
      "memory usage: 282.8 KB\n",
      "None\n"
     ]
    }
   ],
   "source": [
    "# Initialize the StandardScaler \n",
    "scaler = StandardScaler()\n",
    "\n",
    "# Selecting columns to standardize\n",
    "columns_to_scale = ['Year_Birth','Income', 'Recency', 'MntWines', 'MntFruits', 'MntMeatProducts', 'MntFishProducts', \n",
    "                    'MntSweetProducts', 'MntGoldProds', 'NumDealsPurchases', 'NumWebPurchases',\n",
    "                    'NumCatalogPurchases', 'NumStorePurchases', 'NumWebVisitsMonth', 'Customer_Age', \n",
    "                    'Total_spending','Total_purchase']\n",
    "\n",
    "# Apply scaling only on the selected columns and create a DataFrame with scaled data\n",
    "data_scaled = pd.DataFrame(scaler.fit_transform(data_features_cleaned[columns_to_scale]), columns=columns_to_scale)\n",
    "\n",
    "# Display the first few rows and info of the scaled data\n",
    "print(data_scaled.head())\n",
    "print(data_scaled.info())"
   ]
  },
  {
   "cell_type": "markdown",
   "id": "05028248-4200-480a-94a2-64046ca547aa",
   "metadata": {},
   "source": []
  }
 ],
 "metadata": {
  "kernelspec": {
   "display_name": "Python 3 (ipykernel)",
   "language": "python",
   "name": "python3"
  },
  "language_info": {
   "codemirror_mode": {
    "name": "ipython",
    "version": 3
   },
   "file_extension": ".py",
   "mimetype": "text/x-python",
   "name": "python",
   "nbconvert_exporter": "python",
   "pygments_lexer": "ipython3",
   "version": "3.9.19"
  }
 },
 "nbformat": 4,
 "nbformat_minor": 5
}
